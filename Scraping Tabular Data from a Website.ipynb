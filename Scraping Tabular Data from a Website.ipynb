{
 "cells": [
  {
   "cell_type": "markdown",
   "id": "05031404",
   "metadata": {},
   "source": [
    "# Project Name: Scrapping Tabular Data from a Website"
   ]
  },
  {
   "cell_type": "code",
   "execution_count": 2,
   "id": "810d01cf",
   "metadata": {},
   "outputs": [],
   "source": [
    "# importing all libraries\n",
    "import requests\n",
    "import pandas as pd\n",
    "from bs4 import BeautifulSoup"
   ]
  },
  {
   "cell_type": "code",
   "execution_count": 3,
   "id": "318a731e",
   "metadata": {},
   "outputs": [
    {
     "name": "stdout",
     "output_type": "stream",
     "text": [
      "200\n"
     ]
    }
   ],
   "source": [
    "url = 'https://ticker.finology.in/'\n",
    "\n",
    "r = requests.get(url) \n",
    "print(r.status_code) #checking if we are given html access to scrape the, getting a code of \"200\" means we can scrape the data"
   ]
  },
  {
   "cell_type": "code",
   "execution_count": 5,
   "id": "126d01e2",
   "metadata": {},
   "outputs": [],
   "source": [
    "# cooking our soup\n",
    "soup = BeautifulSoup(r.text,'lxml')"
   ]
  },
  {
   "cell_type": "code",
   "execution_count": 12,
   "id": "c9163627",
   "metadata": {},
   "outputs": [],
   "source": [
    "#extracting contents in the table tag\n",
    "table = soup.find('table', class_='table table-sm table-hover screenertable')"
   ]
  },
  {
   "cell_type": "code",
   "execution_count": 13,
   "id": "1cb49213",
   "metadata": {},
   "outputs": [
    {
     "name": "stdout",
     "output_type": "stream",
     "text": [
      "[<th scope=\"col\">Company</th>, <th scope=\"col\">Price<span class=\"muted\">Rs.</span></th>, <th scope=\"col\">Day High<span class=\"muted\">Rs.</span></th>]\n"
     ]
    }
   ],
   "source": [
    "#extracting table headers from table variable\n",
    "headers = table.find_all('th')\n",
    "print(headers)"
   ]
  },
  {
   "cell_type": "code",
   "execution_count": 14,
   "id": "72c9d696",
   "metadata": {},
   "outputs": [],
   "source": [
    "# extracting each header\n",
    "\n",
    "titles = [] #creating an empty list to append headers\n",
    "\n",
    "for i in headers: # using a for loop to iterate through each item in the headers list\n",
    "    titles.append(i.text) # appending the text to the empty list we created \n",
    "    "
   ]
  },
  {
   "cell_type": "code",
   "execution_count": 15,
   "id": "dc0ea357",
   "metadata": {},
   "outputs": [
    {
     "data": {
      "text/plain": [
       "['Company', 'PriceRs.', 'Day HighRs.']"
      ]
     },
     "execution_count": 15,
     "metadata": {},
     "output_type": "execute_result"
    }
   ],
   "source": [
    "titles # headers extracted"
   ]
  },
  {
   "cell_type": "code",
   "execution_count": 45,
   "id": "c3e15270",
   "metadata": {},
   "outputs": [],
   "source": [
    "# creating dataframe column names\n",
    "\n",
    "df = pd.DataFrame(columns = titles)"
   ]
  },
  {
   "cell_type": "code",
   "execution_count": 46,
   "id": "ffa41b8e",
   "metadata": {},
   "outputs": [],
   "source": [
    "#Now let's extract row-wise data using tr tag\n",
    "\n",
    "rows = table.find_all('tr')\n",
    "for i in rows[1:]: # skipping the 0 index because it also contains the headers we extracted initially\n",
    "    data = i.find_all('td') # extracting table data(td) tags\n",
    "    row = [tr.text for tr in data] # extracting text in 'tr' tag for each row\n",
    "    l = len(df) #specifying length of df\n",
    "    df.loc[l] = row # adding rows from len of df"
   ]
  },
  {
   "cell_type": "code",
   "execution_count": 48,
   "id": "ae2b4a6e",
   "metadata": {},
   "outputs": [
    {
     "data": {
      "text/html": [
       "<div>\n",
       "<style scoped>\n",
       "    .dataframe tbody tr th:only-of-type {\n",
       "        vertical-align: middle;\n",
       "    }\n",
       "\n",
       "    .dataframe tbody tr th {\n",
       "        vertical-align: top;\n",
       "    }\n",
       "\n",
       "    .dataframe thead th {\n",
       "        text-align: right;\n",
       "    }\n",
       "</style>\n",
       "<table border=\"1\" class=\"dataframe\">\n",
       "  <thead>\n",
       "    <tr style=\"text-align: right;\">\n",
       "      <th></th>\n",
       "      <th>Company</th>\n",
       "      <th>PriceRs.</th>\n",
       "      <th>Day HighRs.</th>\n",
       "    </tr>\n",
       "  </thead>\n",
       "  <tbody>\n",
       "    <tr>\n",
       "      <th>0</th>\n",
       "      <td>\\nFinolex Cables\\n</td>\n",
       "      <td>775.85</td>\n",
       "      <td>782.95</td>\n",
       "    </tr>\n",
       "    <tr>\n",
       "      <th>1</th>\n",
       "      <td>\\nImagicaaworld Enter\\n</td>\n",
       "      <td>49.25</td>\n",
       "      <td>49.4</td>\n",
       "    </tr>\n",
       "    <tr>\n",
       "      <th>2</th>\n",
       "      <td>\\nEquitas Small Fin.\\n</td>\n",
       "      <td>75.8</td>\n",
       "      <td>76.85</td>\n",
       "    </tr>\n",
       "    <tr>\n",
       "      <th>3</th>\n",
       "      <td>\\nISMT\\n</td>\n",
       "      <td>75.4</td>\n",
       "      <td>77.6</td>\n",
       "    </tr>\n",
       "    <tr>\n",
       "      <th>4</th>\n",
       "      <td>\\nNMDC Steel\\n</td>\n",
       "      <td>38.25</td>\n",
       "      <td>38.55</td>\n",
       "    </tr>\n",
       "    <tr>\n",
       "      <th>5</th>\n",
       "      <td>\\nHariom Pipe Inds.\\n</td>\n",
       "      <td>448.2</td>\n",
       "      <td>451</td>\n",
       "    </tr>\n",
       "    <tr>\n",
       "      <th>6</th>\n",
       "      <td>\\nCigniti Technologies\\n</td>\n",
       "      <td>749.05</td>\n",
       "      <td>758.5</td>\n",
       "    </tr>\n",
       "    <tr>\n",
       "      <th>7</th>\n",
       "      <td>\\nTD Power Systems\\n</td>\n",
       "      <td>154.5</td>\n",
       "      <td>155</td>\n",
       "    </tr>\n",
       "    <tr>\n",
       "      <th>8</th>\n",
       "      <td>\\nWPIL\\n</td>\n",
       "      <td>2038.85</td>\n",
       "      <td>2038.85</td>\n",
       "    </tr>\n",
       "    <tr>\n",
       "      <th>9</th>\n",
       "      <td>\\nTega Industries\\n</td>\n",
       "      <td>683.8</td>\n",
       "      <td>695</td>\n",
       "    </tr>\n",
       "    <tr>\n",
       "      <th>10</th>\n",
       "      <td>\\nKirloskar Ferrous\\n</td>\n",
       "      <td>444.9</td>\n",
       "      <td>447.8</td>\n",
       "    </tr>\n",
       "    <tr>\n",
       "      <th>11</th>\n",
       "      <td>\\nJindal Stainless\\n</td>\n",
       "      <td>279.55</td>\n",
       "      <td>284.6</td>\n",
       "    </tr>\n",
       "    <tr>\n",
       "      <th>12</th>\n",
       "      <td>\\nProcter&amp;Gamble Healt\\n</td>\n",
       "      <td>4977.3</td>\n",
       "      <td>5124</td>\n",
       "    </tr>\n",
       "    <tr>\n",
       "      <th>13</th>\n",
       "      <td>\\nSealmatic India\\n</td>\n",
       "      <td>256.1</td>\n",
       "      <td>260.45</td>\n",
       "    </tr>\n",
       "    <tr>\n",
       "      <th>14</th>\n",
       "      <td>\\nGoyal Aluminiums\\n</td>\n",
       "      <td>280.55</td>\n",
       "      <td>281.2</td>\n",
       "    </tr>\n",
       "  </tbody>\n",
       "</table>\n",
       "</div>"
      ],
      "text/plain": [
       "                     Company PriceRs. Day HighRs.\n",
       "0         \\nFinolex Cables\\n   775.85      782.95\n",
       "1    \\nImagicaaworld Enter\\n    49.25        49.4\n",
       "2     \\nEquitas Small Fin.\\n     75.8       76.85\n",
       "3                   \\nISMT\\n     75.4        77.6\n",
       "4             \\nNMDC Steel\\n    38.25       38.55\n",
       "5      \\nHariom Pipe Inds.\\n    448.2         451\n",
       "6   \\nCigniti Technologies\\n   749.05       758.5\n",
       "7       \\nTD Power Systems\\n    154.5         155\n",
       "8                   \\nWPIL\\n  2038.85     2038.85\n",
       "9        \\nTega Industries\\n    683.8         695\n",
       "10     \\nKirloskar Ferrous\\n    444.9       447.8\n",
       "11      \\nJindal Stainless\\n   279.55       284.6\n",
       "12  \\nProcter&Gamble Healt\\n   4977.3        5124\n",
       "13       \\nSealmatic India\\n    256.1      260.45\n",
       "14      \\nGoyal Aluminiums\\n   280.55       281.2"
      ]
     },
     "execution_count": 48,
     "metadata": {},
     "output_type": "execute_result"
    }
   ],
   "source": [
    "df"
   ]
  },
  {
   "cell_type": "code",
   "execution_count": 49,
   "id": "2c63cf78",
   "metadata": {},
   "outputs": [],
   "source": [
    "# removing new line (\\n) from the 'Company Column'\n",
    "\n",
    "df = df.replace('\\n','', regex=True)"
   ]
  },
  {
   "cell_type": "code",
   "execution_count": 50,
   "id": "905eba8f",
   "metadata": {
    "scrolled": false
   },
   "outputs": [
    {
     "data": {
      "text/html": [
       "<div>\n",
       "<style scoped>\n",
       "    .dataframe tbody tr th:only-of-type {\n",
       "        vertical-align: middle;\n",
       "    }\n",
       "\n",
       "    .dataframe tbody tr th {\n",
       "        vertical-align: top;\n",
       "    }\n",
       "\n",
       "    .dataframe thead th {\n",
       "        text-align: right;\n",
       "    }\n",
       "</style>\n",
       "<table border=\"1\" class=\"dataframe\">\n",
       "  <thead>\n",
       "    <tr style=\"text-align: right;\">\n",
       "      <th></th>\n",
       "      <th>Company</th>\n",
       "      <th>PriceRs.</th>\n",
       "      <th>Day HighRs.</th>\n",
       "    </tr>\n",
       "  </thead>\n",
       "  <tbody>\n",
       "    <tr>\n",
       "      <th>0</th>\n",
       "      <td>Finolex Cables</td>\n",
       "      <td>775.85</td>\n",
       "      <td>782.95</td>\n",
       "    </tr>\n",
       "    <tr>\n",
       "      <th>1</th>\n",
       "      <td>Imagicaaworld Enter</td>\n",
       "      <td>49.25</td>\n",
       "      <td>49.4</td>\n",
       "    </tr>\n",
       "    <tr>\n",
       "      <th>2</th>\n",
       "      <td>Equitas Small Fin.</td>\n",
       "      <td>75.8</td>\n",
       "      <td>76.85</td>\n",
       "    </tr>\n",
       "    <tr>\n",
       "      <th>3</th>\n",
       "      <td>ISMT</td>\n",
       "      <td>75.4</td>\n",
       "      <td>77.6</td>\n",
       "    </tr>\n",
       "    <tr>\n",
       "      <th>4</th>\n",
       "      <td>NMDC Steel</td>\n",
       "      <td>38.25</td>\n",
       "      <td>38.55</td>\n",
       "    </tr>\n",
       "    <tr>\n",
       "      <th>5</th>\n",
       "      <td>Hariom Pipe Inds.</td>\n",
       "      <td>448.2</td>\n",
       "      <td>451</td>\n",
       "    </tr>\n",
       "    <tr>\n",
       "      <th>6</th>\n",
       "      <td>Cigniti Technologies</td>\n",
       "      <td>749.05</td>\n",
       "      <td>758.5</td>\n",
       "    </tr>\n",
       "    <tr>\n",
       "      <th>7</th>\n",
       "      <td>TD Power Systems</td>\n",
       "      <td>154.5</td>\n",
       "      <td>155</td>\n",
       "    </tr>\n",
       "    <tr>\n",
       "      <th>8</th>\n",
       "      <td>WPIL</td>\n",
       "      <td>2038.85</td>\n",
       "      <td>2038.85</td>\n",
       "    </tr>\n",
       "    <tr>\n",
       "      <th>9</th>\n",
       "      <td>Tega Industries</td>\n",
       "      <td>683.8</td>\n",
       "      <td>695</td>\n",
       "    </tr>\n",
       "    <tr>\n",
       "      <th>10</th>\n",
       "      <td>Kirloskar Ferrous</td>\n",
       "      <td>444.9</td>\n",
       "      <td>447.8</td>\n",
       "    </tr>\n",
       "    <tr>\n",
       "      <th>11</th>\n",
       "      <td>Jindal Stainless</td>\n",
       "      <td>279.55</td>\n",
       "      <td>284.6</td>\n",
       "    </tr>\n",
       "    <tr>\n",
       "      <th>12</th>\n",
       "      <td>Procter&amp;Gamble Healt</td>\n",
       "      <td>4977.3</td>\n",
       "      <td>5124</td>\n",
       "    </tr>\n",
       "    <tr>\n",
       "      <th>13</th>\n",
       "      <td>Sealmatic India</td>\n",
       "      <td>256.1</td>\n",
       "      <td>260.45</td>\n",
       "    </tr>\n",
       "    <tr>\n",
       "      <th>14</th>\n",
       "      <td>Goyal Aluminiums</td>\n",
       "      <td>280.55</td>\n",
       "      <td>281.2</td>\n",
       "    </tr>\n",
       "  </tbody>\n",
       "</table>\n",
       "</div>"
      ],
      "text/plain": [
       "                 Company PriceRs. Day HighRs.\n",
       "0         Finolex Cables   775.85      782.95\n",
       "1    Imagicaaworld Enter    49.25        49.4\n",
       "2     Equitas Small Fin.     75.8       76.85\n",
       "3                   ISMT     75.4        77.6\n",
       "4             NMDC Steel    38.25       38.55\n",
       "5      Hariom Pipe Inds.    448.2         451\n",
       "6   Cigniti Technologies   749.05       758.5\n",
       "7       TD Power Systems    154.5         155\n",
       "8                   WPIL  2038.85     2038.85\n",
       "9        Tega Industries    683.8         695\n",
       "10     Kirloskar Ferrous    444.9       447.8\n",
       "11      Jindal Stainless   279.55       284.6\n",
       "12  Procter&Gamble Healt   4977.3        5124\n",
       "13       Sealmatic India    256.1      260.45\n",
       "14      Goyal Aluminiums   280.55       281.2"
      ]
     },
     "execution_count": 50,
     "metadata": {},
     "output_type": "execute_result"
    }
   ],
   "source": [
    "df"
   ]
  },
  {
   "cell_type": "markdown",
   "id": "a06aaee5",
   "metadata": {},
   "source": [
    "# All done !"
   ]
  },
  {
   "cell_type": "code",
   "execution_count": null,
   "id": "17dbf39c",
   "metadata": {},
   "outputs": [],
   "source": []
  }
 ],
 "metadata": {
  "kernelspec": {
   "display_name": "Python 3 (ipykernel)",
   "language": "python",
   "name": "python3"
  },
  "language_info": {
   "codemirror_mode": {
    "name": "ipython",
    "version": 3
   },
   "file_extension": ".py",
   "mimetype": "text/x-python",
   "name": "python",
   "nbconvert_exporter": "python",
   "pygments_lexer": "ipython3",
   "version": "3.9.15"
  }
 },
 "nbformat": 4,
 "nbformat_minor": 5
}
