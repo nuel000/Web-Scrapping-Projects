{
 "cells": [
  {
   "cell_type": "code",
   "execution_count": 23,
   "id": "acd0c1e2",
   "metadata": {},
   "outputs": [],
   "source": [
    "import pandas as pd\n",
    "import requests\n",
    "\n",
    "url = 'https://www.iplt20.com/auction/2022'\n",
    "\n",
    "r = requests.get(url)"
   ]
  },
  {
   "cell_type": "code",
   "execution_count": 3,
   "id": "459c99d5",
   "metadata": {},
   "outputs": [
    {
     "name": "stdout",
     "output_type": "stream",
     "text": [
      "200\n"
     ]
    }
   ],
   "source": [
    "print(r.status_code)"
   ]
  },
  {
   "cell_type": "code",
   "execution_count": 5,
   "id": "f8d798ea",
   "metadata": {},
   "outputs": [],
   "source": [
    "from bs4 import BeautifulSoup"
   ]
  },
  {
   "cell_type": "code",
   "execution_count": 13,
   "id": "10a975f0",
   "metadata": {},
   "outputs": [],
   "source": [
    "soup = BeautifulSoup(r.text, 'lxml')"
   ]
  },
  {
   "cell_type": "code",
   "execution_count": 15,
   "id": "2ddc3560",
   "metadata": {},
   "outputs": [],
   "source": [
    "table = soup.find('table', class_='ih-td-tab auction-tbl')"
   ]
  },
  {
   "cell_type": "code",
   "execution_count": 20,
   "id": "d4626777",
   "metadata": {},
   "outputs": [],
   "source": [
    "header = table.find_all('th',class_='skip-filter')\n",
    "\n",
    "titles =[]\n",
    "\n",
    "for i in header:\n",
    "    titles.append(i.text)"
   ]
  },
  {
   "cell_type": "code",
   "execution_count": 21,
   "id": "483955da",
   "metadata": {},
   "outputs": [
    {
     "data": {
      "text/plain": [
       "['TEAM', 'FUNDS REMAINING', 'OVERSEAS PLAYERS ', 'TOTAL PLAYERS']"
      ]
     },
     "execution_count": 21,
     "metadata": {},
     "output_type": "execute_result"
    }
   ],
   "source": [
    "titles"
   ]
  },
  {
   "cell_type": "code",
   "execution_count": 25,
   "id": "90ec46d6",
   "metadata": {},
   "outputs": [
    {
     "data": {
      "text/html": [
       "<div>\n",
       "<style scoped>\n",
       "    .dataframe tbody tr th:only-of-type {\n",
       "        vertical-align: middle;\n",
       "    }\n",
       "\n",
       "    .dataframe tbody tr th {\n",
       "        vertical-align: top;\n",
       "    }\n",
       "\n",
       "    .dataframe thead th {\n",
       "        text-align: right;\n",
       "    }\n",
       "</style>\n",
       "<table border=\"1\" class=\"dataframe\">\n",
       "  <thead>\n",
       "    <tr style=\"text-align: right;\">\n",
       "      <th></th>\n",
       "      <th>TEAM</th>\n",
       "      <th>FUNDS REMAINING</th>\n",
       "      <th>OVERSEAS PLAYERS</th>\n",
       "      <th>TOTAL PLAYERS</th>\n",
       "    </tr>\n",
       "  </thead>\n",
       "  <tbody>\n",
       "  </tbody>\n",
       "</table>\n",
       "</div>"
      ],
      "text/plain": [
       "Empty DataFrame\n",
       "Columns: [TEAM, FUNDS REMAINING, OVERSEAS PLAYERS , TOTAL PLAYERS]\n",
       "Index: []"
      ]
     },
     "execution_count": 25,
     "metadata": {},
     "output_type": "execute_result"
    }
   ],
   "source": [
    "df = pd.DataFrame(columns = titles)\n",
    "df"
   ]
  },
  {
   "cell_type": "code",
   "execution_count": 29,
   "id": "ecc9b7b7",
   "metadata": {},
   "outputs": [],
   "source": [
    "t_body = soup.find('tbody', id='pointsdata')"
   ]
  },
  {
   "cell_type": "code",
   "execution_count": 47,
   "id": "b41aa535",
   "metadata": {},
   "outputs": [],
   "source": [
    "rows = t_body.find_all('tr')\n",
    "for i in rows:\n",
    "    data = i.find_all('td') # extracting table data(td) tags\n",
    "    row = [tr.text for tr in data] # extracting text in 'tr' tag for each row\n",
    "    l = len(df) #specifying length of df\n",
    "    df.loc[l] = row # adding rows from len of df"
   ]
  },
  {
   "cell_type": "code",
   "execution_count": 43,
   "id": "806278e2",
   "metadata": {},
   "outputs": [
    {
     "data": {
      "text/html": [
       "<div>\n",
       "<style scoped>\n",
       "    .dataframe tbody tr th:only-of-type {\n",
       "        vertical-align: middle;\n",
       "    }\n",
       "\n",
       "    .dataframe tbody tr th {\n",
       "        vertical-align: top;\n",
       "    }\n",
       "\n",
       "    .dataframe thead th {\n",
       "        text-align: right;\n",
       "    }\n",
       "</style>\n",
       "<table border=\"1\" class=\"dataframe\">\n",
       "  <thead>\n",
       "    <tr style=\"text-align: right;\">\n",
       "      <th></th>\n",
       "      <th>TEAM</th>\n",
       "      <th>FUNDS REMAINING</th>\n",
       "      <th>OVERSEAS PLAYERS</th>\n",
       "      <th>TOTAL PLAYERS</th>\n",
       "    </tr>\n",
       "  </thead>\n",
       "  <tbody>\n",
       "    <tr>\n",
       "      <th>0</th>\n",
       "      <td>\\n\\n\\n\\n\\nChennai Super Kings\\n\\n</td>\n",
       "      <td>₹2,95,00,000</td>\n",
       "      <td>8</td>\n",
       "      <td>25</td>\n",
       "    </tr>\n",
       "    <tr>\n",
       "      <th>1</th>\n",
       "      <td>\\n\\n\\n\\n\\nDelhi Capitals\\n\\n</td>\n",
       "      <td>₹10,00,000</td>\n",
       "      <td>7</td>\n",
       "      <td>24</td>\n",
       "    </tr>\n",
       "    <tr>\n",
       "      <th>2</th>\n",
       "      <td>\\n\\n\\n\\n\\nGujarat Titans\\n\\n</td>\n",
       "      <td>₹15,00,000</td>\n",
       "      <td>8</td>\n",
       "      <td>23</td>\n",
       "    </tr>\n",
       "    <tr>\n",
       "      <th>3</th>\n",
       "      <td>\\n\\n\\n\\n\\nKolkata Knight Riders\\n\\n</td>\n",
       "      <td>₹45,00,000</td>\n",
       "      <td>8</td>\n",
       "      <td>25</td>\n",
       "    </tr>\n",
       "    <tr>\n",
       "      <th>4</th>\n",
       "      <td>\\n\\n\\n\\n\\nLucknow Super Giants\\n\\n</td>\n",
       "      <td>₹0</td>\n",
       "      <td>7</td>\n",
       "      <td>21</td>\n",
       "    </tr>\n",
       "    <tr>\n",
       "      <th>5</th>\n",
       "      <td>\\n\\n\\n\\n\\nMumbai Indians\\n\\n</td>\n",
       "      <td>₹10,00,000</td>\n",
       "      <td>8</td>\n",
       "      <td>25</td>\n",
       "    </tr>\n",
       "    <tr>\n",
       "      <th>6</th>\n",
       "      <td>\\n\\n\\n\\n\\nPunjab Kings\\n\\n</td>\n",
       "      <td>₹3,45,00,000</td>\n",
       "      <td>7</td>\n",
       "      <td>25</td>\n",
       "    </tr>\n",
       "    <tr>\n",
       "      <th>7</th>\n",
       "      <td>\\n\\n\\n\\n\\nRajasthan Royals\\n\\n</td>\n",
       "      <td>₹95,00,000</td>\n",
       "      <td>8</td>\n",
       "      <td>24</td>\n",
       "    </tr>\n",
       "    <tr>\n",
       "      <th>8</th>\n",
       "      <td>\\n\\n\\n\\n\\nRoyal Challengers Bangalore\\n\\n</td>\n",
       "      <td>₹1,55,00,000</td>\n",
       "      <td>8</td>\n",
       "      <td>22</td>\n",
       "    </tr>\n",
       "    <tr>\n",
       "      <th>9</th>\n",
       "      <td>\\n\\n\\n\\n\\nSunrisers Hyderabad\\n\\n</td>\n",
       "      <td>₹10,00,000</td>\n",
       "      <td>8</td>\n",
       "      <td>23</td>\n",
       "    </tr>\n",
       "  </tbody>\n",
       "</table>\n",
       "</div>"
      ],
      "text/plain": [
       "                                        TEAM FUNDS REMAINING  \\\n",
       "0          \\n\\n\\n\\n\\nChennai Super Kings\\n\\n    ₹2,95,00,000   \n",
       "1               \\n\\n\\n\\n\\nDelhi Capitals\\n\\n      ₹10,00,000   \n",
       "2               \\n\\n\\n\\n\\nGujarat Titans\\n\\n      ₹15,00,000   \n",
       "3        \\n\\n\\n\\n\\nKolkata Knight Riders\\n\\n      ₹45,00,000   \n",
       "4         \\n\\n\\n\\n\\nLucknow Super Giants\\n\\n              ₹0   \n",
       "5               \\n\\n\\n\\n\\nMumbai Indians\\n\\n      ₹10,00,000   \n",
       "6                 \\n\\n\\n\\n\\nPunjab Kings\\n\\n    ₹3,45,00,000   \n",
       "7             \\n\\n\\n\\n\\nRajasthan Royals\\n\\n      ₹95,00,000   \n",
       "8  \\n\\n\\n\\n\\nRoyal Challengers Bangalore\\n\\n    ₹1,55,00,000   \n",
       "9          \\n\\n\\n\\n\\nSunrisers Hyderabad\\n\\n      ₹10,00,000   \n",
       "\n",
       "  OVERSEAS PLAYERS  TOTAL PLAYERS  \n",
       "0                 8            25  \n",
       "1                 7            24  \n",
       "2                 8            23  \n",
       "3                 8            25  \n",
       "4                 7            21  \n",
       "5                 8            25  \n",
       "6                 7            25  \n",
       "7                 8            24  \n",
       "8                 8            22  \n",
       "9                 8            23  "
      ]
     },
     "execution_count": 43,
     "metadata": {},
     "output_type": "execute_result"
    }
   ],
   "source": [
    "df"
   ]
  },
  {
   "cell_type": "code",
   "execution_count": 44,
   "id": "65bf17dd",
   "metadata": {},
   "outputs": [
    {
     "data": {
      "text/html": [
       "<div>\n",
       "<style scoped>\n",
       "    .dataframe tbody tr th:only-of-type {\n",
       "        vertical-align: middle;\n",
       "    }\n",
       "\n",
       "    .dataframe tbody tr th {\n",
       "        vertical-align: top;\n",
       "    }\n",
       "\n",
       "    .dataframe thead th {\n",
       "        text-align: right;\n",
       "    }\n",
       "</style>\n",
       "<table border=\"1\" class=\"dataframe\">\n",
       "  <thead>\n",
       "    <tr style=\"text-align: right;\">\n",
       "      <th></th>\n",
       "      <th>TEAM</th>\n",
       "      <th>FUNDS REMAINING</th>\n",
       "      <th>OVERSEAS PLAYERS</th>\n",
       "      <th>TOTAL PLAYERS</th>\n",
       "    </tr>\n",
       "  </thead>\n",
       "  <tbody>\n",
       "    <tr>\n",
       "      <th>0</th>\n",
       "      <td>Chennai Super Kings</td>\n",
       "      <td>₹2,95,00,000</td>\n",
       "      <td>8</td>\n",
       "      <td>25</td>\n",
       "    </tr>\n",
       "    <tr>\n",
       "      <th>1</th>\n",
       "      <td>Delhi Capitals</td>\n",
       "      <td>₹10,00,000</td>\n",
       "      <td>7</td>\n",
       "      <td>24</td>\n",
       "    </tr>\n",
       "    <tr>\n",
       "      <th>2</th>\n",
       "      <td>Gujarat Titans</td>\n",
       "      <td>₹15,00,000</td>\n",
       "      <td>8</td>\n",
       "      <td>23</td>\n",
       "    </tr>\n",
       "    <tr>\n",
       "      <th>3</th>\n",
       "      <td>Kolkata Knight Riders</td>\n",
       "      <td>₹45,00,000</td>\n",
       "      <td>8</td>\n",
       "      <td>25</td>\n",
       "    </tr>\n",
       "    <tr>\n",
       "      <th>4</th>\n",
       "      <td>Lucknow Super Giants</td>\n",
       "      <td>₹0</td>\n",
       "      <td>7</td>\n",
       "      <td>21</td>\n",
       "    </tr>\n",
       "    <tr>\n",
       "      <th>5</th>\n",
       "      <td>Mumbai Indians</td>\n",
       "      <td>₹10,00,000</td>\n",
       "      <td>8</td>\n",
       "      <td>25</td>\n",
       "    </tr>\n",
       "    <tr>\n",
       "      <th>6</th>\n",
       "      <td>Punjab Kings</td>\n",
       "      <td>₹3,45,00,000</td>\n",
       "      <td>7</td>\n",
       "      <td>25</td>\n",
       "    </tr>\n",
       "    <tr>\n",
       "      <th>7</th>\n",
       "      <td>Rajasthan Royals</td>\n",
       "      <td>₹95,00,000</td>\n",
       "      <td>8</td>\n",
       "      <td>24</td>\n",
       "    </tr>\n",
       "    <tr>\n",
       "      <th>8</th>\n",
       "      <td>Royal Challengers Bangalore</td>\n",
       "      <td>₹1,55,00,000</td>\n",
       "      <td>8</td>\n",
       "      <td>22</td>\n",
       "    </tr>\n",
       "    <tr>\n",
       "      <th>9</th>\n",
       "      <td>Sunrisers Hyderabad</td>\n",
       "      <td>₹10,00,000</td>\n",
       "      <td>8</td>\n",
       "      <td>23</td>\n",
       "    </tr>\n",
       "  </tbody>\n",
       "</table>\n",
       "</div>"
      ],
      "text/plain": [
       "                          TEAM FUNDS REMAINING OVERSEAS PLAYERS  TOTAL PLAYERS\n",
       "0          Chennai Super Kings    ₹2,95,00,000                 8            25\n",
       "1               Delhi Capitals      ₹10,00,000                 7            24\n",
       "2               Gujarat Titans      ₹15,00,000                 8            23\n",
       "3        Kolkata Knight Riders      ₹45,00,000                 8            25\n",
       "4         Lucknow Super Giants              ₹0                 7            21\n",
       "5               Mumbai Indians      ₹10,00,000                 8            25\n",
       "6                 Punjab Kings    ₹3,45,00,000                 7            25\n",
       "7             Rajasthan Royals      ₹95,00,000                 8            24\n",
       "8  Royal Challengers Bangalore    ₹1,55,00,000                 8            22\n",
       "9          Sunrisers Hyderabad      ₹10,00,000                 8            23"
      ]
     },
     "execution_count": 44,
     "metadata": {},
     "output_type": "execute_result"
    }
   ],
   "source": [
    "# removing new line (\\n) from the 'Company Column'\n",
    "\n",
    "df = df.replace('\\n','', regex=True)\n",
    "df"
   ]
  },
  {
   "cell_type": "code",
   "execution_count": null,
   "id": "5b916569",
   "metadata": {},
   "outputs": [],
   "source": []
  }
 ],
 "metadata": {
  "kernelspec": {
   "display_name": "Python 3 (ipykernel)",
   "language": "python",
   "name": "python3"
  },
  "language_info": {
   "codemirror_mode": {
    "name": "ipython",
    "version": 3
   },
   "file_extension": ".py",
   "mimetype": "text/x-python",
   "name": "python",
   "nbconvert_exporter": "python",
   "pygments_lexer": "ipython3",
   "version": "3.9.15"
  }
 },
 "nbformat": 4,
 "nbformat_minor": 5
}
